{
 "cells": [
  {
   "cell_type": "code",
   "execution_count": 1,
   "id": "aab41edc-e591-4f59-bf32-12fa5dbb1f6b",
   "metadata": {},
   "outputs": [],
   "source": [
    "number = 100"
   ]
  },
  {
   "cell_type": "code",
   "execution_count": 2,
   "id": "6dde5cf6-6b9d-47ee-85d8-8eeb917dc78c",
   "metadata": {},
   "outputs": [
    {
     "data": {
      "text/plain": [
       "int"
      ]
     },
     "execution_count": 2,
     "metadata": {},
     "output_type": "execute_result"
    }
   ],
   "source": [
    "type(number)"
   ]
  },
  {
   "cell_type": "markdown",
   "id": "178a4edc-e516-4e9a-97d4-aa9af8bd14b7",
   "metadata": {},
   "source": [
    "# Different Number Systems\n",
    "- decimal\n",
    "- binary\n",
    "- octal\n",
    "- hexa"
   ]
  },
  {
   "cell_type": "markdown",
   "id": "631a85ac-b5d0-4b80-828e-d70ed476b8f4",
   "metadata": {},
   "source": [
    "$$BINARY$$\n",
    "- Bi means 2\n",
    "- so the base is 2 \n",
    "- here ww will only use 2 digits 0, 1\n",
    "- representation is : 0b<combinations of 0, 1>\n",
    "  eg:0b110,0B01101"
   ]
  },
  {
   "cell_type": "code",
   "execution_count": 3,
   "id": "101973e2-eea5-4a5c-9cf8-72b2984381d0",
   "metadata": {},
   "outputs": [
    {
     "data": {
      "text/plain": [
       "7"
      ]
     },
     "execution_count": 3,
     "metadata": {},
     "output_type": "execute_result"
    }
   ],
   "source": [
    "0b111"
   ]
  },
  {
   "cell_type": "markdown",
   "id": "9d0ebea4-f6f0-4ef7-941b-1d3ee16603e8",
   "metadata": {},
   "source": [
    "$$OCTA$$\n",
    "- octa means 8\n",
    "- so the base is 8\n",
    "- Possible Num -0,1,2,3,4,5,6,7\n",
    "- Representations : 0o<Combinations of 0 to 7>\n",
    "- Eg: 0o123"
   ]
  },
  {
   "cell_type": "code",
   "execution_count": 5,
   "id": "7b318d91-5214-4653-ac78-61f2521f29c2",
   "metadata": {},
   "outputs": [
    {
     "data": {
      "text/plain": [
       "494"
      ]
     },
     "execution_count": 5,
     "metadata": {},
     "output_type": "execute_result"
    }
   ],
   "source": [
    "0o756"
   ]
  },
  {
   "cell_type": "markdown",
   "id": "ad74b69f-729a-40fb-aa28-45c49eec2f24",
   "metadata": {},
   "source": [
    "$$HEXA$$\n",
    "- Hexa means 16\n",
    "- so the base is 16\n",
    "- Possible Num - 0,1,2,3,4,5,6,7,8,9,A,B,C,D,E,F\n",
    "- Representations : 0x<Combinations of 0 to 9 and A to F>\n",
    "- Eg: 0xabc"
   ]
  },
  {
   "cell_type": "code",
   "execution_count": 6,
   "id": "c6307830-07cd-4e19-8007-dfee7a3ec328",
   "metadata": {},
   "outputs": [
    {
     "data": {
      "text/plain": [
       "2748"
      ]
     },
     "execution_count": 6,
     "metadata": {},
     "output_type": "execute_result"
    }
   ],
   "source": [
    "0xabc"
   ]
  },
  {
   "cell_type": "code",
   "execution_count": 8,
   "id": "4287db54-1186-4717-a47b-4ae6635e0a9d",
   "metadata": {},
   "outputs": [
    {
     "data": {
      "text/plain": [
       "2748"
      ]
     },
     "execution_count": 8,
     "metadata": {},
     "output_type": "execute_result"
    }
   ],
   "source": [
    "0xABC"
   ]
  },
  {
   "cell_type": "markdown",
   "id": "b8a68988-5c22-4550-9e82-6dfb5a416e3a",
   "metadata": {},
   "source": [
    "# e representation"
   ]
  },
  {
   "cell_type": "code",
   "execution_count": 9,
   "id": "ef9f653a-b08a-40ff-b829-8f6e7f5ce5b0",
   "metadata": {},
   "outputs": [
    {
     "data": {
      "text/plain": [
       "10000.0"
      ]
     },
     "execution_count": 9,
     "metadata": {},
     "output_type": "execute_result"
    }
   ],
   "source": [
    "10e3   #10*1000"
   ]
  },
  {
   "cell_type": "code",
   "execution_count": 10,
   "id": "8f40d8fd-5685-4aa7-aefd-57f85e7bd4d8",
   "metadata": {},
   "outputs": [
    {
     "data": {
      "text/plain": [
       "10000.0"
      ]
     },
     "execution_count": 10,
     "metadata": {},
     "output_type": "execute_result"
    }
   ],
   "source": [
    "10e+3 #10e3 and 10e+3 both are same"
   ]
  },
  {
   "cell_type": "code",
   "execution_count": 11,
   "id": "d853d02d-c95a-465e-ab32-cd6251eec9d8",
   "metadata": {},
   "outputs": [
    {
     "data": {
      "text/plain": [
       "float"
      ]
     },
     "execution_count": 11,
     "metadata": {},
     "output_type": "execute_result"
    }
   ],
   "source": [
    "type(10e+3)\n"
   ]
  },
  {
   "cell_type": "code",
   "execution_count": 13,
   "id": "fc2258aa-3d86-4fba-992c-9651cc175185",
   "metadata": {},
   "outputs": [
    {
     "data": {
      "text/plain": [
       "0.001"
      ]
     },
     "execution_count": 13,
     "metadata": {},
     "output_type": "execute_result"
    }
   ],
   "source": [
    "1e-3 # 1 % 1000"
   ]
  },
  {
   "cell_type": "code",
   "execution_count": 15,
   "id": "f2256879-5829-452d-bcec-ee7e123db660",
   "metadata": {},
   "outputs": [
    {
     "data": {
      "text/plain": [
       "120.0"
      ]
     },
     "execution_count": 15,
     "metadata": {},
     "output_type": "execute_result"
    }
   ],
   "source": [
    "1.2e+02 # 1.2*100"
   ]
  },
  {
   "cell_type": "code",
   "execution_count": 16,
   "id": "cc44fe8b-48b4-43b6-8324-dfbfe672fcd8",
   "metadata": {},
   "outputs": [
    {
     "data": {
      "text/plain": [
       "0.01"
      ]
     },
     "execution_count": 16,
     "metadata": {},
     "output_type": "execute_result"
    }
   ],
   "source": [
    "1000e-5"
   ]
  },
  {
   "cell_type": "code",
   "execution_count": 17,
   "id": "c6451ed5-3f38-42b9-b55b-666ec8e504ae",
   "metadata": {},
   "outputs": [
    {
     "data": {
      "text/plain": [
       "1e-09"
      ]
     },
     "execution_count": 17,
     "metadata": {},
     "output_type": "execute_result"
    }
   ],
   "source": [
    "10e-10"
   ]
  },
  {
   "cell_type": "markdown",
   "id": "eb9e6532-1932-4e1e-b4eb-925516e145ce",
   "metadata": {},
   "source": [
    "$$STRINGS$$"
   ]
  },
  {
   "cell_type": "code",
   "execution_count": 20,
   "id": "5025285b-ffa7-47ff-aded-7027634cae67",
   "metadata": {},
   "outputs": [
    {
     "data": {
      "text/plain": [
       "'Mahesh'"
      ]
     },
     "execution_count": 20,
     "metadata": {},
     "output_type": "execute_result"
    }
   ],
   "source": [
    "name = 'Mahesh'\n",
    "name"
   ]
  },
  {
   "cell_type": "code",
   "execution_count": 22,
   "id": "f21e4f7e-9d2f-4648-8b2d-1838b04e43cf",
   "metadata": {},
   "outputs": [
    {
     "data": {
      "text/plain": [
       "'Kiran'"
      ]
     },
     "execution_count": 22,
     "metadata": {},
     "output_type": "execute_result"
    }
   ],
   "source": [
    "name = \"Kiran\"\n",
    "name"
   ]
  },
  {
   "cell_type": "code",
   "execution_count": 23,
   "id": "d3279e18-abd4-4236-bfab-7fd3e87a37e8",
   "metadata": {},
   "outputs": [
    {
     "data": {
      "text/plain": [
       "'\\n\\nHi\\nHello World\\n\\n'"
      ]
     },
     "execution_count": 23,
     "metadata": {},
     "output_type": "execute_result"
    }
   ],
   "source": [
    "name2 = \"\"\"\n",
    "\n",
    "Hi\n",
    "Hello World\n",
    "\n",
    "\"\"\"\n",
    "\n",
    "name2\n",
    "# doc strings"
   ]
  },
  {
   "cell_type": "markdown",
   "id": "c4e59259-90bc-4921-84bf-708839223607",
   "metadata": {},
   "source": [
    "doc strings are used to write information "
   ]
  }
 ],
 "metadata": {
  "kernelspec": {
   "display_name": "Python [conda env:base] *",
   "language": "python",
   "name": "conda-base-py"
  },
  "language_info": {
   "codemirror_mode": {
    "name": "ipython",
    "version": 3
   },
   "file_extension": ".py",
   "mimetype": "text/x-python",
   "name": "python",
   "nbconvert_exporter": "python",
   "pygments_lexer": "ipython3",
   "version": "3.13.5"
  },
  "panel-cell-order": [
   "feb7ff0c-ffd9-4122-ac73-4530debcae6c",
   "5f15d531-7a0d-4bdb-a100-bacca41e244e",
   "2c9afa5b-bf57-47fe-9df2-2f6000d06369"
  ]
 },
 "nbformat": 4,
 "nbformat_minor": 5
}
