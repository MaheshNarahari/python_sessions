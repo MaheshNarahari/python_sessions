{
 "cells": [
  {
   "cell_type": "markdown",
   "id": "595eca36-c686-464f-9682-616c0d64d150",
   "metadata": {},
   "source": [
    "$$BOOLEAN$$"
   ]
  },
  {
   "cell_type": "code",
   "execution_count": 2,
   "id": "24a3e7d3-02c8-4f01-9f86-1f46d6b188d3",
   "metadata": {},
   "outputs": [
    {
     "ename": "SyntaxError",
     "evalue": "cannot assign to True (2706851087.py, line 1)",
     "output_type": "error",
     "traceback": [
      "\u001b[1;36m  Cell \u001b[1;32mIn[2], line 1\u001b[1;36m\u001b[0m\n\u001b[1;33m    True = 10\u001b[0m\n\u001b[1;37m    ^\u001b[0m\n\u001b[1;31mSyntaxError\u001b[0m\u001b[1;31m:\u001b[0m cannot assign to True\n"
     ]
    }
   ],
   "source": [
    "True = 10\n"
   ]
  },
  {
   "cell_type": "markdown",
   "id": "a99c48e1-0315-492e-bc80-6bc9b629db92",
   "metadata": {},
   "source": [
    "#Keywords\n",
    "True  #value = 1\n",
    "False #value = 0\n",
    "\n"
   ]
  },
  {
   "cell_type": "code",
   "execution_count": 6,
   "id": "2aea9eea-1935-4371-a06a-b827d16eb50c",
   "metadata": {},
   "outputs": [],
   "source": [
    "name = True #booleans\n",
    "name = true #Assigining varaibale\n",
    "name = \"True\" #String\n"
   ]
  },
  {
   "cell_type": "code",
   "execution_count": 4,
   "id": "edf6a3ea-b3f2-4265-8e7b-50b4e514785c",
   "metadata": {},
   "outputs": [],
   "source": [
    "true = 10"
   ]
  },
  {
   "cell_type": "code",
   "execution_count": 5,
   "id": "36fb0040-07b7-4080-ae4b-47aa7f77c06c",
   "metadata": {},
   "outputs": [],
   "source": [
    "name = True #booleans\n",
    "name = true\n",
    "name = \"True\""
   ]
  },
  {
   "cell_type": "code",
   "execution_count": 7,
   "id": "9c3ccdba-9b2b-4a2a-afdf-8f0febfda7a0",
   "metadata": {},
   "outputs": [
    {
     "data": {
      "text/plain": [
       "'True'"
      ]
     },
     "execution_count": 7,
     "metadata": {},
     "output_type": "execute_result"
    }
   ],
   "source": [
    "name"
   ]
  },
  {
   "cell_type": "code",
   "execution_count": 8,
   "id": "a6d22a70-d452-4744-ab98-217e6b24c839",
   "metadata": {},
   "outputs": [
    {
     "data": {
      "text/plain": [
       "str"
      ]
     },
     "execution_count": 8,
     "metadata": {},
     "output_type": "execute_result"
    }
   ],
   "source": [
    "type(name)"
   ]
  },
  {
   "cell_type": "markdown",
   "id": "53ca11a4-b950-4750-b28e-0b71a02026da",
   "metadata": {},
   "source": [
    "$$COMPLEX CONJUGATE$$"
   ]
  },
  {
   "cell_type": "markdown",
   "id": "5c36ae54-ce50-4bc5-b529-be25a921fc7e",
   "metadata": {},
   "source": [
    "a+jb\n",
    "where a = real number and b = imaginary number\n",
    "i = j = sqrt(-1) "
   ]
  },
  {
   "cell_type": "code",
   "execution_count": 9,
   "id": "bdaba4c1-3657-4b2f-a725-2bffcf4dde18",
   "metadata": {},
   "outputs": [
    {
     "data": {
      "text/plain": [
       "complex"
      ]
     },
     "execution_count": 9,
     "metadata": {},
     "output_type": "execute_result"
    }
   ],
   "source": [
    "type((3+5j))"
   ]
  },
  {
   "cell_type": "code",
   "execution_count": 10,
   "id": "d7e5ddfd-ee20-44d2-8afc-172a110c24dd",
   "metadata": {},
   "outputs": [
    {
     "ename": "SyntaxError",
     "evalue": "invalid decimal literal (1321272330.py, line 1)",
     "output_type": "error",
     "traceback": [
      "\u001b[1;36m  Cell \u001b[1;32mIn[10], line 1\u001b[1;36m\u001b[0m\n\u001b[1;33m    type((3+5i))\u001b[0m\n\u001b[1;37m            ^\u001b[0m\n\u001b[1;31mSyntaxError\u001b[0m\u001b[1;31m:\u001b[0m invalid decimal literal\n"
     ]
    }
   ],
   "source": [
    "type((3+5i))"
   ]
  },
  {
   "cell_type": "code",
   "execution_count": 11,
   "id": "366c78c6-6b46-4e68-96a7-387697a30804",
   "metadata": {},
   "outputs": [
    {
     "data": {
      "text/plain": [
       "['__abs__',\n",
       " '__add__',\n",
       " '__bool__',\n",
       " '__class__',\n",
       " '__complex__',\n",
       " '__delattr__',\n",
       " '__dir__',\n",
       " '__doc__',\n",
       " '__eq__',\n",
       " '__format__',\n",
       " '__ge__',\n",
       " '__getattribute__',\n",
       " '__getnewargs__',\n",
       " '__getstate__',\n",
       " '__gt__',\n",
       " '__hash__',\n",
       " '__init__',\n",
       " '__init_subclass__',\n",
       " '__le__',\n",
       " '__lt__',\n",
       " '__mul__',\n",
       " '__ne__',\n",
       " '__neg__',\n",
       " '__new__',\n",
       " '__pos__',\n",
       " '__pow__',\n",
       " '__radd__',\n",
       " '__reduce__',\n",
       " '__reduce_ex__',\n",
       " '__repr__',\n",
       " '__rmul__',\n",
       " '__rpow__',\n",
       " '__rsub__',\n",
       " '__rtruediv__',\n",
       " '__setattr__',\n",
       " '__sizeof__',\n",
       " '__str__',\n",
       " '__sub__',\n",
       " '__subclasshook__',\n",
       " '__truediv__',\n",
       " 'conjugate',\n",
       " 'imag',\n",
       " 'real']"
      ]
     },
     "execution_count": 11,
     "metadata": {},
     "output_type": "execute_result"
    }
   ],
   "source": [
    "dir(complex)"
   ]
  },
  {
   "cell_type": "code",
   "execution_count": 12,
   "id": "65e63505-5694-4b3d-9943-5237cacc93c9",
   "metadata": {},
   "outputs": [
    {
     "data": {
      "text/plain": [
       "<member 'real' of 'complex' objects>"
      ]
     },
     "execution_count": 12,
     "metadata": {},
     "output_type": "execute_result"
    }
   ],
   "source": [
    "complex.real"
   ]
  },
  {
   "cell_type": "code",
   "execution_count": 13,
   "id": "5db40a4e-ef80-496a-bca8-f216cc3fc273",
   "metadata": {},
   "outputs": [],
   "source": [
    "number = 3+7j"
   ]
  },
  {
   "cell_type": "code",
   "execution_count": 14,
   "id": "b0f37001-5ede-4d96-8b60-7c01d934777c",
   "metadata": {},
   "outputs": [
    {
     "data": {
      "text/plain": [
       "3.0"
      ]
     },
     "execution_count": 14,
     "metadata": {},
     "output_type": "execute_result"
    }
   ],
   "source": [
    "number.real"
   ]
  },
  {
   "cell_type": "code",
   "execution_count": 16,
   "id": "9e1a4f4f-ce77-4ba7-9a60-34a0b2440cff",
   "metadata": {},
   "outputs": [
    {
     "data": {
      "text/plain": [
       "7.0"
      ]
     },
     "execution_count": 16,
     "metadata": {},
     "output_type": "execute_result"
    }
   ],
   "source": [
    "number.imag"
   ]
  },
  {
   "cell_type": "code",
   "execution_count": 17,
   "id": "7c65ce52-a665-47cf-812f-0737dc947456",
   "metadata": {},
   "outputs": [
    {
     "data": {
      "text/plain": [
       "<function complex.conjugate()>"
      ]
     },
     "execution_count": 17,
     "metadata": {},
     "output_type": "execute_result"
    }
   ],
   "source": [
    "number.conjugate"
   ]
  },
  {
   "cell_type": "code",
   "execution_count": 18,
   "id": "a86af177-241e-465d-8882-d9cd25a92413",
   "metadata": {},
   "outputs": [
    {
     "data": {
      "text/plain": [
       "(3-7j)"
      ]
     },
     "execution_count": 18,
     "metadata": {},
     "output_type": "execute_result"
    }
   ],
   "source": [
    "number.conjugate()"
   ]
  },
  {
   "cell_type": "code",
   "execution_count": 19,
   "id": "edabc7f3-c886-4b53-9c04-2daadbc36cde",
   "metadata": {},
   "outputs": [
    {
     "ename": "TypeError",
     "evalue": "'member_descriptor' object is not callable",
     "output_type": "error",
     "traceback": [
      "\u001b[1;31m---------------------------------------------------------------------------\u001b[0m",
      "\u001b[1;31mTypeError\u001b[0m                                 Traceback (most recent call last)",
      "Cell \u001b[1;32mIn[19], line 1\u001b[0m\n\u001b[1;32m----> 1\u001b[0m \u001b[38;5;28mcomplex\u001b[39m\u001b[38;5;241m.\u001b[39mreal(number)\n",
      "\u001b[1;31mTypeError\u001b[0m: 'member_descriptor' object is not callable"
     ]
    }
   ],
   "source": [
    "complex.real(number)"
   ]
  },
  {
   "cell_type": "code",
   "execution_count": 20,
   "id": "a36275a2-b7b2-4572-b110-7cc4537b1a17",
   "metadata": {},
   "outputs": [
    {
     "ename": "ModuleNotFoundError",
     "evalue": "No module named 'complex'",
     "output_type": "error",
     "traceback": [
      "\u001b[1;31m---------------------------------------------------------------------------\u001b[0m",
      "\u001b[1;31mModuleNotFoundError\u001b[0m                       Traceback (most recent call last)",
      "Cell \u001b[1;32mIn[20], line 1\u001b[0m\n\u001b[1;32m----> 1\u001b[0m \u001b[38;5;28;01mfrom\u001b[39;00m\u001b[38;5;250m \u001b[39m\u001b[38;5;21;01mcomplex\u001b[39;00m\u001b[38;5;250m \u001b[39m\u001b[38;5;28;01mimport\u001b[39;00m real\n",
      "\u001b[1;31mModuleNotFoundError\u001b[0m: No module named 'complex'"
     ]
    }
   ],
   "source": [
    "from complex import real"
   ]
  },
  {
   "cell_type": "code",
   "execution_count": 21,
   "id": "53cd37d8-0106-42e4-b43e-af36065715a2",
   "metadata": {},
   "outputs": [
    {
     "data": {
      "text/plain": [
       "(2+3j)"
      ]
     },
     "execution_count": 21,
     "metadata": {},
     "output_type": "execute_result"
    }
   ],
   "source": [
    "complex(2,3) #first param is taken  real and 3 is imaginary if u pass"
   ]
  },
  {
   "cell_type": "code",
   "execution_count": 24,
   "id": "38158bf7-b0ef-44a8-8434-d7936360ecb0",
   "metadata": {},
   "outputs": [
    {
     "data": {
      "text/plain": [
       "0j"
      ]
     },
     "execution_count": 24,
     "metadata": {},
     "output_type": "execute_result"
    }
   ],
   "source": [
    "complex() #Bothh are optional params if u dont provide it will default as 0 and result in 0j"
   ]
  },
  {
   "cell_type": "code",
   "execution_count": 25,
   "id": "54bfe77d-46b1-49d4-8939-e3d7c011e977",
   "metadata": {},
   "outputs": [
    {
     "data": {
      "text/plain": [
       "(1+0j)"
      ]
     },
     "execution_count": 25,
     "metadata": {},
     "output_type": "execute_result"
    }
   ],
   "source": [
    "complex(1)"
   ]
  },
  {
   "cell_type": "code",
   "execution_count": 27,
   "id": "181fcc60-e3b5-416b-928b-33354be54891",
   "metadata": {},
   "outputs": [
    {
     "data": {
      "text/plain": [
       "2j"
      ]
     },
     "execution_count": 27,
     "metadata": {},
     "output_type": "execute_result"
    }
   ],
   "source": [
    "complex(0,2)"
   ]
  },
  {
   "cell_type": "markdown",
   "id": "324792d5-a49a-463d-af91-739c28214bf5",
   "metadata": {},
   "source": [
    "random.randint()\n",
    "math.sin()\n",
    "complex()\n",
    "In 1,2 there are no optional params it required mandatory params only in complex case it is optional"
   ]
  },
  {
   "cell_type": "markdown",
   "id": "58c5a661-802a-4f1c-b587-049fcf9c70ba",
   "metadata": {},
   "source": [
    "$$**Type Casting**$$"
   ]
  },
  {
   "cell_type": "code",
   "execution_count": null,
   "id": "612a6a17-87d9-4c05-b563-fb774afa105a",
   "metadata": {},
   "outputs": [],
   "source": [
    "It is used to change the datatypes"
   ]
  },
  {
   "cell_type": "markdown",
   "id": "edb7a4c2-11bf-4f12-b7b9-35e09d5c897e",
   "metadata": {},
   "source": [
    "**Integer to other types**"
   ]
  },
  {
   "cell_type": "code",
   "execution_count": 30,
   "id": "6a3ca297-67e2-42ed-b0e2-c400e3320e57",
   "metadata": {},
   "outputs": [
    {
     "data": {
      "text/plain": [
       "100"
      ]
     },
     "execution_count": 30,
     "metadata": {},
     "output_type": "execute_result"
    }
   ],
   "source": [
    "number = 100\n",
    "number"
   ]
  },
  {
   "cell_type": "code",
   "execution_count": 31,
   "id": "de9053f9-d7c0-40db-96a8-68200d395a14",
   "metadata": {},
   "outputs": [
    {
     "data": {
      "text/plain": [
       "100.0"
      ]
     },
     "execution_count": 31,
     "metadata": {},
     "output_type": "execute_result"
    }
   ],
   "source": [
    "number_float = float(number)\n",
    "number_float"
   ]
  },
  {
   "cell_type": "code",
   "execution_count": 32,
   "id": "bd4ac2af-be45-43f8-b821-bd9a14b1934a",
   "metadata": {},
   "outputs": [
    {
     "data": {
      "text/plain": [
       "'100.0'"
      ]
     },
     "execution_count": 32,
     "metadata": {},
     "output_type": "execute_result"
    }
   ],
   "source": [
    "string_number = str(number_float)\n",
    "string_number"
   ]
  },
  {
   "cell_type": "code",
   "execution_count": 34,
   "id": "c45abded-9536-4f90-889d-9f7fe0f2b1b2",
   "metadata": {},
   "outputs": [
    {
     "data": {
      "text/plain": [
       "str"
      ]
     },
     "execution_count": 34,
     "metadata": {},
     "output_type": "execute_result"
    }
   ],
   "source": [
    "type(string_number)"
   ]
  },
  {
   "cell_type": "code",
   "execution_count": 35,
   "id": "22efc39a-0f43-4bf5-9163-2edae2abed13",
   "metadata": {},
   "outputs": [],
   "source": [
    "bool_number = bool(string_number)"
   ]
  },
  {
   "cell_type": "code",
   "execution_count": 36,
   "id": "3d2296c7-d066-4b4e-acd3-ac3272873ced",
   "metadata": {},
   "outputs": [
    {
     "data": {
      "text/plain": [
       "True"
      ]
     },
     "execution_count": 36,
     "metadata": {},
     "output_type": "execute_result"
    }
   ],
   "source": [
    "bool_number"
   ]
  },
  {
   "cell_type": "code",
   "execution_count": 38,
   "id": "db415bf3-e5ff-492a-a24b-3e4f26e0cb90",
   "metadata": {},
   "outputs": [
    {
     "data": {
      "text/plain": [
       "True"
      ]
     },
     "execution_count": 38,
     "metadata": {},
     "output_type": "execute_result"
    }
   ],
   "source": [
    "bool(-9)"
   ]
  },
  {
   "cell_type": "code",
   "execution_count": 39,
   "id": "1d8d4a92-5e68-4b5f-97fc-53c1542d01f7",
   "metadata": {},
   "outputs": [
    {
     "data": {
      "text/plain": [
       "False"
      ]
     },
     "execution_count": 39,
     "metadata": {},
     "output_type": "execute_result"
    }
   ],
   "source": [
    "bool(0)"
   ]
  },
  {
   "cell_type": "code",
   "execution_count": null,
   "id": "50b786ba-0e9e-4ec3-9683-289e79a5d939",
   "metadata": {},
   "outputs": [],
   "source": [
    "#Except 0 all are true\n"
   ]
  },
  {
   "cell_type": "code",
   "execution_count": 41,
   "id": "7bb4338f-37b2-4361-96f4-7a8ee1343b84",
   "metadata": {},
   "outputs": [
    {
     "data": {
      "text/plain": [
       "(100+0j)"
      ]
     },
     "execution_count": 41,
     "metadata": {},
     "output_type": "execute_result"
    }
   ],
   "source": [
    "number = 100\n",
    "number2 = complex(number)\n",
    "number2"
   ]
  },
  {
   "cell_type": "markdown",
   "id": "97d8c10c-35fe-4ff1-b529-0202ad41bf2e",
   "metadata": {},
   "source": [
    "**Float to other datatypes**"
   ]
  },
  {
   "cell_type": "code",
   "execution_count": 43,
   "id": "1f6f5cb5-dda6-4f2e-be4d-9895272f0b59",
   "metadata": {},
   "outputs": [
    {
     "name": "stdout",
     "output_type": "stream",
     "text": [
      "100\n",
      "100.5\n",
      "True\n",
      "(100.5+0j)\n"
     ]
    }
   ],
   "source": [
    "number = 100.5\n",
    "print(int(100.5)) #100\n",
    "print(str(number)) #'100.5'\n",
    "print(bool(number)) # True\n",
    "print(complex(number)) #100.5+0j\n"
   ]
  },
  {
   "cell_type": "code",
   "execution_count": 44,
   "id": "afaf6c38-1606-4ddf-86f7-8dcfffd870bb",
   "metadata": {},
   "outputs": [
    {
     "name": "stdout",
     "output_type": "stream",
     "text": [
      "True\n"
     ]
    }
   ],
   "source": [
    "print(bool('100.5'))"
   ]
  },
  {
   "cell_type": "code",
   "execution_count": 45,
   "id": "248abe23-ac37-4685-9a66-33aeb905ae6b",
   "metadata": {},
   "outputs": [
    {
     "data": {
      "text/plain": [
       "100"
      ]
     },
     "execution_count": 45,
     "metadata": {},
     "output_type": "execute_result"
    }
   ],
   "source": [
    "round(100.4)"
   ]
  },
  {
   "cell_type": "code",
   "execution_count": 47,
   "id": "ceb31c30-81c4-4623-a1ec-bca2e326e8ff",
   "metadata": {},
   "outputs": [
    {
     "data": {
      "text/plain": [
       "101"
      ]
     },
     "execution_count": 47,
     "metadata": {},
     "output_type": "execute_result"
    }
   ],
   "source": [
    "round(100.6)"
   ]
  },
  {
   "cell_type": "code",
   "execution_count": null,
   "id": "3d60851b-3bdc-488b-869f-65233f808393",
   "metadata": {},
   "outputs": [],
   "source": [
    "# bool of all true except 0 and empty string"
   ]
  },
  {
   "cell_type": "code",
   "execution_count": null,
   "id": "1d5270ae-7033-40f1-8f63-b1ccd22b08fa",
   "metadata": {},
   "outputs": [],
   "source": [
    "print(bool(0))        # False\n",
    "print(bool(\"\"))       # False\n",
    "print(bool(\"0\"))      # True   (non-empty string)\n",
    "print(bool(5))        # True\n",
    "print(bool([]))       # False  (empty list)\n",
    "print(bool([0]))      # True   (list with element)\n",
    "print(bool(None))     # False\n",
    "print(bool(\" \"))      # True   (string with a space)"
   ]
  },
  {
   "cell_type": "markdown",
   "id": "f315fb64-28fd-4d4a-91a4-e5be653b8acd",
   "metadata": {},
   "source": [
    "**Strings to Other**"
   ]
  },
  {
   "cell_type": "code",
   "execution_count": 48,
   "id": "973dcae0-83c0-46d4-a847-e35b5e29e1bb",
   "metadata": {},
   "outputs": [
    {
     "ename": "ValueError",
     "evalue": "invalid literal for int() with base 10: 'Mahesh'",
     "output_type": "error",
     "traceback": [
      "\u001b[1;31m---------------------------------------------------------------------------\u001b[0m",
      "\u001b[1;31mValueError\u001b[0m                                Traceback (most recent call last)",
      "Cell \u001b[1;32mIn[48], line 2\u001b[0m\n\u001b[0;32m      1\u001b[0m string \u001b[38;5;241m=\u001b[39m \u001b[38;5;124m'\u001b[39m\u001b[38;5;124mMahesh\u001b[39m\u001b[38;5;124m'\u001b[39m\n\u001b[1;32m----> 2\u001b[0m \u001b[38;5;28mint\u001b[39m(string)\n",
      "\u001b[1;31mValueError\u001b[0m: invalid literal for int() with base 10: 'Mahesh'"
     ]
    }
   ],
   "source": [
    "string = 'Mahesh'\n",
    "int(string)"
   ]
  },
  {
   "cell_type": "code",
   "execution_count": 49,
   "id": "c0ec2808-0e08-4287-9a23-1ec859f7a56d",
   "metadata": {},
   "outputs": [
    {
     "data": {
      "text/plain": [
       "True"
      ]
     },
     "execution_count": 49,
     "metadata": {},
     "output_type": "execute_result"
    }
   ],
   "source": [
    "bool(string)"
   ]
  },
  {
   "cell_type": "code",
   "execution_count": 50,
   "id": "0a730df7-ab8e-4769-b24f-7ab91b6a0fdf",
   "metadata": {},
   "outputs": [
    {
     "ename": "ValueError",
     "evalue": "could not convert string to float: 'Mahesh'",
     "output_type": "error",
     "traceback": [
      "\u001b[1;31m---------------------------------------------------------------------------\u001b[0m",
      "\u001b[1;31mValueError\u001b[0m                                Traceback (most recent call last)",
      "Cell \u001b[1;32mIn[50], line 1\u001b[0m\n\u001b[1;32m----> 1\u001b[0m \u001b[38;5;28mfloat\u001b[39m(string)\n",
      "\u001b[1;31mValueError\u001b[0m: could not convert string to float: 'Mahesh'"
     ]
    }
   ],
   "source": [
    "float(string)"
   ]
  },
  {
   "cell_type": "code",
   "execution_count": 51,
   "id": "a7348b89-22fd-4262-871b-9697a02c5491",
   "metadata": {},
   "outputs": [
    {
     "ename": "ValueError",
     "evalue": "complex() arg is a malformed string",
     "output_type": "error",
     "traceback": [
      "\u001b[1;31m---------------------------------------------------------------------------\u001b[0m",
      "\u001b[1;31mValueError\u001b[0m                                Traceback (most recent call last)",
      "Cell \u001b[1;32mIn[51], line 1\u001b[0m\n\u001b[1;32m----> 1\u001b[0m \u001b[38;5;28mcomplex\u001b[39m(string)\n",
      "\u001b[1;31mValueError\u001b[0m: complex() arg is a malformed string"
     ]
    }
   ],
   "source": [
    "complex(string)"
   ]
  },
  {
   "cell_type": "code",
   "execution_count": 53,
   "id": "534b09d8-b4f4-4ff6-a63b-dd25e3e9c2c4",
   "metadata": {},
   "outputs": [
    {
     "ename": "ValueError",
     "evalue": "invalid literal for int() with base 10: '10.7'",
     "output_type": "error",
     "traceback": [
      "\u001b[1;31m---------------------------------------------------------------------------\u001b[0m",
      "\u001b[1;31mValueError\u001b[0m                                Traceback (most recent call last)",
      "Cell \u001b[1;32mIn[53], line 1\u001b[0m\n\u001b[1;32m----> 1\u001b[0m \u001b[38;5;28mint\u001b[39m(\u001b[38;5;124m'\u001b[39m\u001b[38;5;124m10.7\u001b[39m\u001b[38;5;124m'\u001b[39m)\n",
      "\u001b[1;31mValueError\u001b[0m: invalid literal for int() with base 10: '10.7'"
     ]
    }
   ],
   "source": [
    "int('10.7') # If the input doesn’t match the expected format, you get a ValueError instead of silent or unsafe conversion."
   ]
  },
  {
   "cell_type": "code",
   "execution_count": 54,
   "id": "71708fe1-d06a-42c2-b585-78d502346033",
   "metadata": {},
   "outputs": [
    {
     "data": {
      "text/plain": [
       "10"
      ]
     },
     "execution_count": 54,
     "metadata": {},
     "output_type": "execute_result"
    }
   ],
   "source": [
    "int(float('10.5'))"
   ]
  },
  {
   "cell_type": "markdown",
   "id": "a99a8f80-b23f-436b-822b-dc59272e1b1d",
   "metadata": {},
   "source": [
    "| Input       | `int()`   | `float()`   | Notes                                 |\n",
    "| ----------- | --------- | ----------- | ------------------------------------- |\n",
    "| `\"10\"`      | ✅ → `10`  | ✅ → `10.0`  | Works: valid integer format           |\n",
    "| `\"  -42  \"` | ✅ → `-42` | ✅ → `-42.0` | Leading/trailing spaces allowed       |\n",
    "| `\"10.7\"`    | ❌ Error   | ✅ → `10.7`  | Must go `float()` first, then `int()` |\n",
    "| `\"abc\"`     | ❌ Error   | ❌ Error     | Not numeric                           |\n",
    "| `\"0\"`       | ✅ → `0`   | ✅ → `0.0`   | Works                                 |\n",
    "| `\"  \"`      | ❌ Error   | ❌ Error     | Empty/space-only strings fail         |\n"
   ]
  },
  {
   "cell_type": "code",
   "execution_count": null,
   "id": "82c9ca8a-a9cd-4a63-8476-8f09a599cdf1",
   "metadata": {},
   "outputs": [],
   "source": [
    "| Input  | `str()`  | Notes |\n",
    "| ------ | -------- | ----- |\n",
    "| `10`   | `\"10\"`   | Works |\n",
    "| `10.7` | `\"10.7\"` | Works |\n",
    "| `0`    | `\"0\"`    | Works |\n",
    "| `-42`  | `\"-42\"`  | Works |\n"
   ]
  },
  {
   "cell_type": "code",
   "execution_count": null,
   "id": "e34168af-1417-4805-a137-2cd4330a8cf5",
   "metadata": {},
   "outputs": [],
   "source": [
    "| Input   | `int()` | `round()` | Notes                      |\n",
    "| ------- | ------- | --------- | -------------------------- |\n",
    "| `10.7`  | `10`    | `11`      | `int()` truncates toward 0 |\n",
    "| `-10.7` | `-10`   | `-11`     | Rounding is different      |\n",
    "| `0.0`   | `0`     | `0`       | Works                      |\n"
   ]
  },
  {
   "cell_type": "code",
   "execution_count": null,
   "id": "ed98fb5a-1b4a-44f9-b67f-83e43f01993e",
   "metadata": {},
   "outputs": [],
   "source": [
    "| Input  | `bool()` | Notes                      |\n",
    "| ------ | -------- | -------------------------- |\n",
    "| `0`    | `False`  | Zero is False              |\n",
    "| `1`    | `True`   | Non-zero is True           |\n",
    "| `\"\"`   | `False`  | Empty string is False      |\n",
    "| `\" \"`  | `True`   | Space is still a character |\n",
    "| `[]`   | `False`  | Empty list is False        |\n",
    "| `[0]`  | `True`   | Non-empty list is True     |\n",
    "| `None` | `False`  | Always False               |\n"
   ]
  },
  {
   "cell_type": "code",
   "execution_count": 55,
   "id": "eda55306-d0d5-4fa5-be27-7cf23bfb7343",
   "metadata": {},
   "outputs": [
    {
     "name": "stdout",
     "output_type": "stream",
     "text": [
      "1\n",
      "1.0\n",
      "True\n",
      "(1+0j)\n"
     ]
    }
   ],
   "source": [
    "val = True\n",
    "print(int(True)) #1\n",
    "print(float(True)) #1.0\n",
    "print(str(True)) #\n",
    "print(complex(True)) #"
   ]
  },
  {
   "cell_type": "code",
   "execution_count": 56,
   "id": "d16fc8b8-9c17-4f85-b716-f95c47b8a891",
   "metadata": {},
   "outputs": [
    {
     "ename": "TypeError",
     "evalue": "int() argument must be a string, a bytes-like object or a real number, not 'complex'",
     "output_type": "error",
     "traceback": [
      "\u001b[1;31m---------------------------------------------------------------------------\u001b[0m",
      "\u001b[1;31mTypeError\u001b[0m                                 Traceback (most recent call last)",
      "Cell \u001b[1;32mIn[56], line 2\u001b[0m\n\u001b[0;32m      1\u001b[0m val \u001b[38;5;241m=\u001b[39m \u001b[38;5;241m100\u001b[39m\u001b[38;5;241m+\u001b[39m\u001b[38;5;241m200\u001b[39mj\n\u001b[1;32m----> 2\u001b[0m \u001b[38;5;28mint\u001b[39m(val)\n",
      "\u001b[1;31mTypeError\u001b[0m: int() argument must be a string, a bytes-like object or a real number, not 'complex'"
     ]
    }
   ],
   "source": [
    "val = 100+200j\n",
    "int(val)"
   ]
  },
  {
   "cell_type": "code",
   "execution_count": 57,
   "id": "0359f13f-8d6b-496a-9c58-5705185fd60e",
   "metadata": {},
   "outputs": [
    {
     "ename": "TypeError",
     "evalue": "float() argument must be a string or a real number, not 'complex'",
     "output_type": "error",
     "traceback": [
      "\u001b[1;31m---------------------------------------------------------------------------\u001b[0m",
      "\u001b[1;31mTypeError\u001b[0m                                 Traceback (most recent call last)",
      "Cell \u001b[1;32mIn[57], line 1\u001b[0m\n\u001b[1;32m----> 1\u001b[0m \u001b[38;5;28mfloat\u001b[39m(val)\n",
      "\u001b[1;31mTypeError\u001b[0m: float() argument must be a string or a real number, not 'complex'"
     ]
    }
   ],
   "source": [
    "float(val)"
   ]
  },
  {
   "cell_type": "code",
   "execution_count": 58,
   "id": "3fe616a2-8e85-4293-b8f3-5133f0edd693",
   "metadata": {},
   "outputs": [
    {
     "data": {
      "text/plain": [
       "'(100+200j)'"
      ]
     },
     "execution_count": 58,
     "metadata": {},
     "output_type": "execute_result"
    }
   ],
   "source": [
    "str(val)"
   ]
  },
  {
   "cell_type": "code",
   "execution_count": 59,
   "id": "5e3c7673-2542-4ff4-978c-f2920d07c12e",
   "metadata": {},
   "outputs": [
    {
     "data": {
      "text/plain": [
       "True"
      ]
     },
     "execution_count": 59,
     "metadata": {},
     "output_type": "execute_result"
    }
   ],
   "source": [
    "bool(val)"
   ]
  },
  {
   "cell_type": "code",
   "execution_count": 60,
   "id": "27672e33-e6f1-46ab-bc54-e20c8cc27f5f",
   "metadata": {},
   "outputs": [
    {
     "data": {
      "text/plain": [
       "True"
      ]
     },
     "execution_count": 60,
     "metadata": {},
     "output_type": "execute_result"
    }
   ],
   "source": [
    "bool(str)"
   ]
  },
  {
   "cell_type": "code",
   "execution_count": 61,
   "id": "89db4295-d909-4a29-add3-e9a4d4364b36",
   "metadata": {},
   "outputs": [
    {
     "data": {
      "text/plain": [
       "0j"
      ]
     },
     "execution_count": 61,
     "metadata": {},
     "output_type": "execute_result"
    }
   ],
   "source": [
    "complex(False)"
   ]
  },
  {
   "cell_type": "code",
   "execution_count": 62,
   "id": "70f8119d-21ea-4666-a2ac-bace93bd4cec",
   "metadata": {},
   "outputs": [
    {
     "data": {
      "text/plain": [
       "0.0"
      ]
     },
     "execution_count": 62,
     "metadata": {},
     "output_type": "execute_result"
    }
   ],
   "source": [
    "float(False)"
   ]
  },
  {
   "cell_type": "code",
   "execution_count": 66,
   "id": "739943b1-aabd-44b9-8da6-cdba93ec6b6d",
   "metadata": {},
   "outputs": [
    {
     "ename": "TypeError",
     "evalue": "int() argument must be a string, a bytes-like object or a real number, not 'complex'",
     "output_type": "error",
     "traceback": [
      "\u001b[1;31m---------------------------------------------------------------------------\u001b[0m",
      "\u001b[1;31mTypeError\u001b[0m                                 Traceback (most recent call last)",
      "Cell \u001b[1;32mIn[66], line 2\u001b[0m\n\u001b[0;32m      1\u001b[0m val \u001b[38;5;241m=\u001b[39m \u001b[38;5;241m100\u001b[39m\u001b[38;5;241m+\u001b[39m\u001b[38;5;241m0\u001b[39mj\n\u001b[1;32m----> 2\u001b[0m \u001b[38;5;28mint\u001b[39m(val) \u001b[38;5;66;03m#error\u001b[39;00m\n\u001b[0;32m      3\u001b[0m \u001b[38;5;28mstr\u001b[39m(val) \u001b[38;5;66;03m#'100+0j'\u001b[39;00m\n\u001b[0;32m      4\u001b[0m \u001b[38;5;28mfloat\u001b[39m(val) \u001b[38;5;66;03m#error\u001b[39;00m\n",
      "\u001b[1;31mTypeError\u001b[0m: int() argument must be a string, a bytes-like object or a real number, not 'complex'"
     ]
    }
   ],
   "source": [
    "val = 100+0j\n",
    "int(val) #error\n",
    "str(val) #'100+0j'\n",
    "float(val) #error\n",
    "bool(val) #True"
   ]
  },
  {
   "cell_type": "code",
   "execution_count": null,
   "id": "e3bf6a1e-7c00-43f7-bf97-3f9a9afbdde6",
   "metadata": {},
   "outputs": [],
   "source": []
  }
 ],
 "metadata": {
  "kernelspec": {
   "display_name": "Python [conda env:base] *",
   "language": "python",
   "name": "conda-base-py"
  },
  "language_info": {
   "codemirror_mode": {
    "name": "ipython",
    "version": 3
   },
   "file_extension": ".py",
   "mimetype": "text/x-python",
   "name": "python",
   "nbconvert_exporter": "python",
   "pygments_lexer": "ipython3",
   "version": "3.13.5"
  },
  "panel-cell-order": [
   "feb7ff0c-ffd9-4122-ac73-4530debcae6c",
   "5f15d531-7a0d-4bdb-a100-bacca41e244e",
   "2c9afa5b-bf57-47fe-9df2-2f6000d06369"
  ]
 },
 "nbformat": 4,
 "nbformat_minor": 5
}
