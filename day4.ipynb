{
 "cells": [
  {
   "cell_type": "code",
   "execution_count": 1,
   "id": "4e52438c-2b9a-4db5-8881-d486bf0d11fd",
   "metadata": {},
   "outputs": [
    {
     "data": {
      "text/plain": [
       "200"
      ]
     },
     "execution_count": 1,
     "metadata": {},
     "output_type": "execute_result"
    }
   ],
   "source": [
    "number = 100\n",
    "number2= 200\n",
    "number\n",
    "number2"
   ]
  },
  {
   "cell_type": "code",
   "execution_count": null,
   "id": "644445ce-aaa9-4b20-87ba-cdc279fa452f",
   "metadata": {},
   "outputs": [],
   "source": [
    "#Above is printing only last value if we want we need print"
   ]
  },
  {
   "cell_type": "code",
   "execution_count": 3,
   "id": "537d5edc-2b30-4af0-b154-946491c2c98d",
   "metadata": {},
   "outputs": [
    {
     "name": "stdout",
     "output_type": "stream",
     "text": [
      "100\n",
      "200\n"
     ]
    }
   ],
   "source": [
    "number = 100\n",
    "number2= 200\n",
    "print(number)\n",
    "print(number2)"
   ]
  },
  {
   "cell_type": "code",
   "execution_count": null,
   "id": "0e9591f2-3a31-4422-a5ba-ead4145c5c4d",
   "metadata": {},
   "outputs": [],
   "source": [
    "#Python is interpreted language it is run from step by step if it gives error the next line wont run"
   ]
  },
  {
   "cell_type": "code",
   "execution_count": 4,
   "id": "6cc7a49d-16cb-45a9-8ae7-2cab5b2ee3df",
   "metadata": {},
   "outputs": [
    {
     "ename": "NameError",
     "evalue": "name 'g' is not defined",
     "output_type": "error",
     "traceback": [
      "\u001b[1;31m---------------------------------------------------------------------------\u001b[0m",
      "\u001b[1;31mNameError\u001b[0m                                 Traceback (most recent call last)",
      "Cell \u001b[1;32mIn[4], line 2\u001b[0m\n\u001b[0;32m      1\u001b[0m a \u001b[38;5;241m=\u001b[39m \u001b[38;5;241m100\u001b[39m\n\u001b[1;32m----> 2\u001b[0m b \u001b[38;5;241m=\u001b[39m g\n\u001b[0;32m      3\u001b[0m c \u001b[38;5;241m=\u001b[39m \u001b[38;5;241m1\u001b[39m\n",
      "\u001b[1;31mNameError\u001b[0m: name 'g' is not defined"
     ]
    }
   ],
   "source": [
    "a = 100\n",
    "b = g\n",
    "c = 1"
   ]
  },
  {
   "cell_type": "code",
   "execution_count": 5,
   "id": "05bda25e-a1ea-49b2-8f3d-0019495add65",
   "metadata": {},
   "outputs": [],
   "source": [
    "a = 100\n",
    "b = 4\n",
    "c = 1"
   ]
  },
  {
   "cell_type": "code",
   "execution_count": 6,
   "id": "3d81e360-8cce-402e-a411-0337cf333db5",
   "metadata": {},
   "outputs": [
    {
     "name": "stdout",
     "output_type": "stream",
     "text": [
      "100 4\n"
     ]
    }
   ],
   "source": [
    "print(a,b)"
   ]
  },
  {
   "cell_type": "code",
   "execution_count": 7,
   "id": "bd0b7393-ea27-491c-802d-d09e1784cb01",
   "metadata": {},
   "outputs": [
    {
     "name": "stdout",
     "output_type": "stream",
     "text": [
      "100 4 1\n"
     ]
    }
   ],
   "source": [
    "print(a,b,c)"
   ]
  },
  {
   "cell_type": "markdown",
   "id": "a45d43a7-b52f-4b15-aad6-41c9f1f7aa8c",
   "metadata": {},
   "source": [
    "**joining multiple print statements**"
   ]
  },
  {
   "cell_type": "code",
   "execution_count": 9,
   "id": "740a2719-5107-403e-9bad-2ad792efb615",
   "metadata": {},
   "outputs": [
    {
     "name": "stdout",
     "output_type": "stream",
     "text": [
      "mahesh\n",
      "narahari\n"
     ]
    }
   ],
   "source": [
    "print('mahesh')\n",
    "print('narahari')"
   ]
  },
  {
   "cell_type": "code",
   "execution_count": 10,
   "id": "bbb79b8c-6c35-4044-a26c-2cb67d82817d",
   "metadata": {},
   "outputs": [
    {
     "name": "stdout",
     "output_type": "stream",
     "text": [
      "maheshnarahari\n"
     ]
    }
   ],
   "source": [
    "print('mahesh',end=\"\")\n",
    "print('narahari')"
   ]
  },
  {
   "cell_type": "code",
   "execution_count": 11,
   "id": "6cb777d1-9261-43b9-832d-a5454895fc8d",
   "metadata": {},
   "outputs": [
    {
     "name": "stdout",
     "output_type": "stream",
     "text": [
      "mahesh narahari\n"
     ]
    }
   ],
   "source": [
    "print('mahesh',end=\" \")\n",
    "print('narahari')"
   ]
  },
  {
   "cell_type": "code",
   "execution_count": 12,
   "id": "db60b376-0848-48f8-aa22-361b06abb066",
   "metadata": {},
   "outputs": [
    {
     "name": "stdout",
     "output_type": "stream",
     "text": [
      "mahesh narahari\n"
     ]
    }
   ],
   "source": [
    "print('mahesh',end=\"\")\n",
    "print(' narahari')"
   ]
  },
  {
   "cell_type": "code",
   "execution_count": 13,
   "id": "7a5a64b2-e437-4549-a914-1a8581aa69be",
   "metadata": {},
   "outputs": [
    {
     "name": "stdout",
     "output_type": "stream",
     "text": [
      "mahesh------------------narahari\n"
     ]
    }
   ],
   "source": [
    "print('mahesh',end=\"------------------\")\n",
    "print('narahari')"
   ]
  },
  {
   "cell_type": "code",
   "execution_count": 15,
   "id": "27c844be-f449-4f8c-8706-d2db5d32f1cf",
   "metadata": {},
   "outputs": [
    {
     "name": "stdout",
     "output_type": "stream",
     "text": [
      "mahesh babu\n",
      "narahari\n"
     ]
    }
   ],
   "source": [
    "print('mahesh',end=\" \")\n",
    "print('babu')\n",
    "print('narahari')"
   ]
  },
  {
   "cell_type": "code",
   "execution_count": 16,
   "id": "94d4be5d-c30f-477b-88cb-91e544ed2c9a",
   "metadata": {},
   "outputs": [
    {
     "name": "stdout",
     "output_type": "stream",
     "text": [
      "mahesh babu narahari\n"
     ]
    }
   ],
   "source": [
    "print('mahesh',end=\" \")\n",
    "print('babu', end=\" \")\n",
    "print('narahari')"
   ]
  },
  {
   "cell_type": "code",
   "execution_count": 17,
   "id": "3d5ae51e-38d2-4b40-9a38-0c7f637c1585",
   "metadata": {},
   "outputs": [
    {
     "name": "stdout",
     "output_type": "stream",
     "text": [
      "The sum is  3\n"
     ]
    }
   ],
   "source": [
    "a = 1\n",
    "b = 2\n",
    "add = a+b\n",
    "print(\"The sum is \",add)"
   ]
  },
  {
   "cell_type": "code",
   "execution_count": 23,
   "id": "b1b5f280-6e27-4cb9-bf5d-5962a4e38751",
   "metadata": {},
   "outputs": [
    {
     "ename": "SyntaxError",
     "evalue": "invalid syntax (3037650426.py, line 4)",
     "output_type": "error",
     "traceback": [
      "\u001b[1;36m  Cell \u001b[1;32mIn[23], line 4\u001b[1;36m\u001b[0m\n\u001b[1;33m    print(\"The sum of \". a .\"and\". b . \"is\". add)\u001b[0m\n\u001b[1;37m                            ^\u001b[0m\n\u001b[1;31mSyntaxError\u001b[0m\u001b[1;31m:\u001b[0m invalid syntax\n"
     ]
    }
   ],
   "source": [
    "a = 1\n",
    "b = 2\n",
    "add = a+b\n",
    "print(\"The sum of \". a .\"and\". b . \"is\". add)"
   ]
  },
  {
   "cell_type": "code",
   "execution_count": 25,
   "id": "bd319423-1042-44c0-b43d-dff3aa17e647",
   "metadata": {},
   "outputs": [
    {
     "name": "stdout",
     "output_type": "stream",
     "text": [
      "The sum of 1 and 20 is 21\n"
     ]
    }
   ],
   "source": [
    "a = 1\n",
    "b = 20\n",
    "add = a + b\n",
    "print(\"The sum of\",a, \"and\",b,\"is\",add)\n"
   ]
  },
  {
   "cell_type": "markdown",
   "id": "a60a1f46-bd86-4e25-93f3-0441812a019c",
   "metadata": {},
   "source": [
    "**F strings**"
   ]
  },
  {
   "cell_type": "code",
   "execution_count": 26,
   "id": "12ae4906-da1d-4329-88be-d50da5d42357",
   "metadata": {},
   "outputs": [
    {
     "name": "stdout",
     "output_type": "stream",
     "text": [
      "The sum of 1 and 20 is 21\n"
     ]
    }
   ],
   "source": [
    "print(f\"The sum of {a} and {b} is {add}\")\n"
   ]
  },
  {
   "cell_type": "code",
   "execution_count": 29,
   "id": "f7b47232-07eb-4f67-8489-1f94f624919a",
   "metadata": {},
   "outputs": [
    {
     "name": "stdout",
     "output_type": "stream",
     "text": [
      "The sum of 1 and 20 is 21\n"
     ]
    }
   ],
   "source": [
    "print(f\"The sum of {a} and {b} is {add}\")"
   ]
  },
  {
   "cell_type": "code",
   "execution_count": 31,
   "id": "d3304936-98f0-4557-8259-8da7b092ea39",
   "metadata": {},
   "outputs": [
    {
     "name": "stdout",
     "output_type": "stream",
     "text": [
      "Hi My name is Mahesh and my age is 25 and i am from Bnglr\n"
     ]
    }
   ],
   "source": [
    "name = \"Mahesh\"\n",
    "city = \"Bnglr\"\n",
    "age = 25\n",
    "print(f\"Hi My name is {name} and my age is {age} and i am from {city}\")"
   ]
  },
  {
   "cell_type": "code",
   "execution_count": 34,
   "id": "b7d7e8bf-f205-4e9d-af70-71ee66841159",
   "metadata": {},
   "outputs": [
    {
     "name": "stdout",
     "output_type": "stream",
     "text": [
      "Hi My name is Mahesh\n"
     ]
    }
   ],
   "source": [
    "name = \"Mahesh\"\n",
    "city = \"Bnglr\"\n",
    "age = 25\n",
    "print(\"Hi My name is\",name)"
   ]
  },
  {
   "cell_type": "code",
   "execution_count": 35,
   "id": "3d6b2a90-1c8e-40a6-8e17-31601dc378d3",
   "metadata": {},
   "outputs": [
    {
     "ename": "TypeError",
     "evalue": "can only concatenate str (not \"int\") to str",
     "output_type": "error",
     "traceback": [
      "\u001b[1;31m---------------------------------------------------------------------------\u001b[0m",
      "\u001b[1;31mTypeError\u001b[0m                                 Traceback (most recent call last)",
      "Cell \u001b[1;32mIn[35], line 1\u001b[0m\n\u001b[1;32m----> 1\u001b[0m \u001b[38;5;28mprint\u001b[39m(\u001b[38;5;124m\"\u001b[39m\u001b[38;5;124mThe sum of \u001b[39m\u001b[38;5;124m\"\u001b[39m\u001b[38;5;241m+\u001b[39m a \u001b[38;5;241m+\u001b[39m\u001b[38;5;124m\"\u001b[39m\u001b[38;5;124mand\u001b[39m\u001b[38;5;124m\"\u001b[39m\u001b[38;5;241m+\u001b[39m b \u001b[38;5;241m+\u001b[39m \u001b[38;5;124m\"\u001b[39m\u001b[38;5;124mis\u001b[39m\u001b[38;5;124m\"\u001b[39m\u001b[38;5;241m+\u001b[39m add)\n",
      "\u001b[1;31mTypeError\u001b[0m: can only concatenate str (not \"int\") to str"
     ]
    }
   ],
   "source": [
    "print(\"The sum of \"+ a +\"and\"+ b + \"is\"+ add) #Variables shld not be otehr data types"
   ]
  },
  {
   "cell_type": "code",
   "execution_count": 40,
   "id": "c768e8d3-8eed-4309-b410-c77df9a12fd0",
   "metadata": {},
   "outputs": [
    {
     "name": "stdout",
     "output_type": "stream",
     "text": [
      "The sum of 1 and 20 is 21\n"
     ]
    }
   ],
   "source": [
    "print(\"The sum of {} and {} is {}\".format(a,b,add))"
   ]
  },
  {
   "cell_type": "code",
   "execution_count": 42,
   "id": "e7a1521f-890a-42ad-ab5f-087d25d48c18",
   "metadata": {},
   "outputs": [
    {
     "name": "stdout",
     "output_type": "stream",
     "text": [
      "Hi My name is Mahesh and i am from Bnglr and i am 25 old\n"
     ]
    }
   ],
   "source": [
    "print(\"Hi My name is {} and i am from {} and i am {} old\".format(name,city,age))"
   ]
  },
  {
   "cell_type": "code",
   "execution_count": 46,
   "id": "b4640ee9-45ae-404e-9bfe-7c1eb9478a94",
   "metadata": {},
   "outputs": [
    {
     "name": "stdout",
     "output_type": "stream",
     "text": [
      "The addition of 20 and 30 is 50\n",
      "The subtarction of 20 and 30 is -10\n",
      "The multiplication of 20 and 30 is 600\n",
      "The remainder of 20 and 30 is 20\n",
      "The div of 20 and 30 is 0.6666666666666666\n"
     ]
    }
   ],
   "source": [
    "val1 = 20\n",
    "val2 = 30\n",
    "add = val1+val2\n",
    "sub = val1-val2\n",
    "mul = val1*val2\n",
    "remainder = val1%val2\n",
    "div = val1/val2\n",
    "\n",
    "print(\"The addition of {} and {} is {}\".format(val1,val2,add))\n",
    "print(\"The subtarction of {} and {} is {}\".format(val1,val2,sub))\n",
    "print(\"The multiplication of {} and {} is {}\".format(val1,val2,mul))\n",
    "print(\"The remainder of {} and {} is {}\".format(val1,val2,remainder))\n",
    "print(\"The div of {} and {} is {}\".format(val1,val2,div))\n"
   ]
  },
  {
   "cell_type": "code",
   "execution_count": 47,
   "id": "5c92eadc-c661-46e4-b0da-4333eefd8c2b",
   "metadata": {},
   "outputs": [
    {
     "data": {
      "text/plain": [
       "1"
      ]
     },
     "execution_count": 47,
     "metadata": {},
     "output_type": "execute_result"
    }
   ],
   "source": [
    "round(div)"
   ]
  },
  {
   "cell_type": "code",
   "execution_count": 48,
   "id": "23a8fec4-4504-4d65-ac4f-27ad20f28a4c",
   "metadata": {},
   "outputs": [
    {
     "data": {
      "text/plain": [
       "0.67"
      ]
     },
     "execution_count": 48,
     "metadata": {},
     "output_type": "execute_result"
    }
   ],
   "source": [
    "round(div,2)"
   ]
  },
  {
   "cell_type": "code",
   "execution_count": 49,
   "id": "505b190e-061c-49fc-8833-337753bfe5b9",
   "metadata": {},
   "outputs": [
    {
     "name": "stdout",
     "output_type": "stream",
     "text": [
      "The div of 20 and 30 is 0.67\n",
      "The div of 20 and 30 is 0.67\n"
     ]
    }
   ],
   "source": [
    "print(\"The div of {} and {} is {}\".format(val1, val2, round(div, 2)))\n",
    "print(\"The div of {} and {} is {:.2f}\".format(val1, val2, div))"
   ]
  },
  {
   "cell_type": "code",
   "execution_count": null,
   "id": "37a70018-1bea-41a6-813b-c93003252997",
   "metadata": {},
   "outputs": [],
   "source": [
    "20/30  #divison\n",
    "20%30  #modulus or remainder \n",
    "20//30 # floor divison or quotient"
   ]
  },
  {
   "cell_type": "code",
   "execution_count": 50,
   "id": "81347bc8-4447-40c8-bbc2-d122b471789e",
   "metadata": {},
   "outputs": [
    {
     "name": "stdout",
     "output_type": "stream",
     "text": [
      "2.5\n",
      "2\n",
      "1\n"
     ]
    }
   ],
   "source": [
    "print(5/2)\n",
    "print(5//2)\n",
    "print(5%2)"
   ]
  },
  {
   "cell_type": "markdown",
   "id": "9a01950a-a313-4a8a-a0aa-abecf9d6bce3",
   "metadata": {},
   "source": [
    "**INPUT KEYWORD**"
   ]
  },
  {
   "cell_type": "code",
   "execution_count": 53,
   "id": "bdcde55f-9125-4fe7-8194-3749a9017588",
   "metadata": {},
   "outputs": [
    {
     "name": "stdin",
     "output_type": "stream",
     "text": [
      " 5\n"
     ]
    },
    {
     "data": {
      "text/plain": [
       "'5'"
      ]
     },
     "execution_count": 53,
     "metadata": {},
     "output_type": "execute_result"
    }
   ],
   "source": [
    "input() #input is always string"
   ]
  },
  {
   "cell_type": "code",
   "execution_count": 54,
   "id": "99ffc3c1-d002-4ba3-8203-5a2f427df6ed",
   "metadata": {},
   "outputs": [
    {
     "name": "stdin",
     "output_type": "stream",
     "text": [
      "Enter the value 10\n"
     ]
    },
    {
     "data": {
      "text/plain": [
       "'10'"
      ]
     },
     "execution_count": 54,
     "metadata": {},
     "output_type": "execute_result"
    }
   ],
   "source": [
    "input(\"Enter the value\")"
   ]
  },
  {
   "cell_type": "code",
   "execution_count": 55,
   "id": "9feed2a9-5879-497e-8f5c-bfebf2a6efe3",
   "metadata": {},
   "outputs": [
    {
     "name": "stdin",
     "output_type": "stream",
     "text": [
      "Enter the value A 10\n",
      "Enter the value A 20\n"
     ]
    },
    {
     "data": {
      "text/plain": [
       "'20'"
      ]
     },
     "execution_count": 55,
     "metadata": {},
     "output_type": "execute_result"
    }
   ],
   "source": [
    "input(\"Enter the value A\")\n",
    "input(\"Enter the value A\")"
   ]
  },
  {
   "cell_type": "code",
   "execution_count": 57,
   "id": "35f202e7-a557-41e6-a4b7-91cc67cb4418",
   "metadata": {},
   "outputs": [
    {
     "name": "stdin",
     "output_type": "stream",
     "text": [
      " 12\n"
     ]
    },
    {
     "data": {
      "text/plain": [
       "str"
      ]
     },
     "execution_count": 57,
     "metadata": {},
     "output_type": "execute_result"
    }
   ],
   "source": [
    "type(input())\n"
   ]
  },
  {
   "cell_type": "code",
   "execution_count": 58,
   "id": "0c874287-022b-49ef-b15b-08e97ebe831c",
   "metadata": {},
   "outputs": [
    {
     "name": "stdin",
     "output_type": "stream",
     "text": [
      "val 1 12\n",
      "Val 2 13\n"
     ]
    },
    {
     "name": "stdout",
     "output_type": "stream",
     "text": [
      "The sum of 12 and 13 is 1213\n"
     ]
    }
   ],
   "source": [
    "val1 = input(\"val 1\")\n",
    "val2 = input(\"Val 2\")\n",
    "add = val1+val2\n",
    "print(\"The sum of {} and {} is {}\".format(val1,val2,add))"
   ]
  },
  {
   "cell_type": "code",
   "execution_count": null,
   "id": "d7608135-5fae-4452-8170-312dbbfc64d3",
   "metadata": {},
   "outputs": [],
   "source": [
    "#The issue is it is string . by default the input value is string"
   ]
  },
  {
   "cell_type": "code",
   "execution_count": 59,
   "id": "71d9793f-007b-43ec-b4e9-cfe3c1070c05",
   "metadata": {},
   "outputs": [
    {
     "name": "stdin",
     "output_type": "stream",
     "text": [
      "val 1 12\n",
      "Val 2 13\n"
     ]
    },
    {
     "name": "stdout",
     "output_type": "stream",
     "text": [
      "The sum of 12 and 13 is 25\n"
     ]
    }
   ],
   "source": [
    "val1 = input(\"val 1\")\n",
    "val2 = input(\"Val 2\")\n",
    "add = int(val1)+int(val2)\n",
    "print(\"The sum of {} and {} is {}\".format(val1,val2,add))"
   ]
  },
  {
   "cell_type": "code",
   "execution_count": 62,
   "id": "dee38daf-cf94-4735-8dc9-648462c0c330",
   "metadata": {},
   "outputs": [
    {
     "name": "stdin",
     "output_type": "stream",
     "text": [
      " 100.4\n"
     ]
    },
    {
     "ename": "ValueError",
     "evalue": "invalid literal for int() with base 10: '100.4'",
     "output_type": "error",
     "traceback": [
      "\u001b[1;31m---------------------------------------------------------------------------\u001b[0m",
      "\u001b[1;31mValueError\u001b[0m                                Traceback (most recent call last)",
      "Cell \u001b[1;32mIn[62], line 2\u001b[0m\n\u001b[0;32m      1\u001b[0m \u001b[38;5;66;03m#Suppose if we type any decimals in input and if we typecasting with int it will fail \u001b[39;00m\n\u001b[1;32m----> 2\u001b[0m \u001b[38;5;28mint\u001b[39m(\u001b[38;5;28minput\u001b[39m(\u001b[38;5;124m'\u001b[39m\u001b[38;5;124m'\u001b[39m))\n",
      "\u001b[1;31mValueError\u001b[0m: invalid literal for int() with base 10: '100.4'"
     ]
    }
   ],
   "source": [
    "#Suppose if we type any decimals in input and if we typecasting with int it will fail \n",
    "int(input(''))"
   ]
  },
  {
   "cell_type": "markdown",
   "id": "4fd4be88-6082-4cb4-82e7-5523a0b9caa3",
   "metadata": {},
   "source": [
    "**eval**"
   ]
  },
  {
   "cell_type": "code",
   "execution_count": 66,
   "id": "82c6e531-4b50-49a1-bc42-341b1db4d71f",
   "metadata": {},
   "outputs": [
    {
     "name": "stdin",
     "output_type": "stream",
     "text": [
      " apple\n"
     ]
    },
    {
     "ename": "NameError",
     "evalue": "name 'apple' is not defined",
     "output_type": "error",
     "traceback": [
      "\u001b[1;31m---------------------------------------------------------------------------\u001b[0m",
      "\u001b[1;31mNameError\u001b[0m                                 Traceback (most recent call last)",
      "Cell \u001b[1;32mIn[66], line 2\u001b[0m\n\u001b[0;32m      1\u001b[0m \u001b[38;5;66;03m#eval it will take automatically take crct\u001b[39;00m\n\u001b[1;32m----> 2\u001b[0m \u001b[38;5;28meval\u001b[39m(\u001b[38;5;28minput\u001b[39m())\n",
      "File \u001b[1;32m<string>:1\u001b[0m\n",
      "\u001b[1;31mNameError\u001b[0m: name 'apple' is not defined"
     ]
    }
   ],
   "source": [
    "#eval it will take automatically take crct it is only for numbers if it is strings we need to type in quotes\n",
    "eval(input())\n"
   ]
  },
  {
   "cell_type": "code",
   "execution_count": 67,
   "id": "cb4d07f2-6ec0-4319-becf-651b764dec4c",
   "metadata": {},
   "outputs": [
    {
     "name": "stdin",
     "output_type": "stream",
     "text": [
      "0 1\n"
     ]
    },
    {
     "data": {
      "text/plain": [
       "'1'"
      ]
     },
     "execution_count": 67,
     "metadata": {},
     "output_type": "execute_result"
    }
   ],
   "source": [
    "input(int())\n"
   ]
  },
  {
   "cell_type": "code",
   "execution_count": null,
   "id": "d6c99b0e-e782-4351-bde7-37327645b94d",
   "metadata": {},
   "outputs": [],
   "source": []
  }
 ],
 "metadata": {
  "kernelspec": {
   "display_name": "Python [conda env:base] *",
   "language": "python",
   "name": "conda-base-py"
  },
  "language_info": {
   "codemirror_mode": {
    "name": "ipython",
    "version": 3
   },
   "file_extension": ".py",
   "mimetype": "text/x-python",
   "name": "python",
   "nbconvert_exporter": "python",
   "pygments_lexer": "ipython3",
   "version": "3.13.5"
  },
  "panel-cell-order": [
   "feb7ff0c-ffd9-4122-ac73-4530debcae6c",
   "5f15d531-7a0d-4bdb-a100-bacca41e244e",
   "2c9afa5b-bf57-47fe-9df2-2f6000d06369"
  ]
 },
 "nbformat": 4,
 "nbformat_minor": 5
}
